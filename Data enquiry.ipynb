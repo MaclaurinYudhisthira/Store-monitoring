{
 "cells": [
  {
   "cell_type": "code",
   "execution_count": 21,
   "id": "074d74ac",
   "metadata": {},
   "outputs": [],
   "source": [
    "import pandas as pd\n",
    "timezones_df = pd.read_csv('time zones.csv')\n",
    "business_hours_df = pd.read_csv('Menu hours.csv')\n",
    "store_status_df = pd.read_csv('store status.csv')"
   ]
  },
  {
   "cell_type": "code",
   "execution_count": 7,
   "id": "d902aab1",
   "metadata": {},
   "outputs": [
    {
     "data": {
      "text/html": [
       "<div>\n",
       "<style scoped>\n",
       "    .dataframe tbody tr th:only-of-type {\n",
       "        vertical-align: middle;\n",
       "    }\n",
       "\n",
       "    .dataframe tbody tr th {\n",
       "        vertical-align: top;\n",
       "    }\n",
       "\n",
       "    .dataframe thead th {\n",
       "        text-align: right;\n",
       "    }\n",
       "</style>\n",
       "<table border=\"1\" class=\"dataframe\">\n",
       "  <thead>\n",
       "    <tr style=\"text-align: right;\">\n",
       "      <th></th>\n",
       "      <th>store_id</th>\n",
       "      <th>timezone_str</th>\n",
       "    </tr>\n",
       "  </thead>\n",
       "  <tbody>\n",
       "    <tr>\n",
       "      <th>0</th>\n",
       "      <td>8139926242460185114</td>\n",
       "      <td>Asia/Beirut</td>\n",
       "    </tr>\n",
       "    <tr>\n",
       "      <th>1</th>\n",
       "      <td>5415949628544298339</td>\n",
       "      <td>America/Boise</td>\n",
       "    </tr>\n",
       "    <tr>\n",
       "      <th>2</th>\n",
       "      <td>3408529570017053440</td>\n",
       "      <td>America/Denver</td>\n",
       "    </tr>\n",
       "    <tr>\n",
       "      <th>3</th>\n",
       "      <td>9055649751952768824</td>\n",
       "      <td>America/Denver</td>\n",
       "    </tr>\n",
       "    <tr>\n",
       "      <th>4</th>\n",
       "      <td>4428372089193592098</td>\n",
       "      <td>America/Denver</td>\n",
       "    </tr>\n",
       "  </tbody>\n",
       "</table>\n",
       "</div>"
      ],
      "text/plain": [
       "              store_id    timezone_str\n",
       "0  8139926242460185114     Asia/Beirut\n",
       "1  5415949628544298339   America/Boise\n",
       "2  3408529570017053440  America/Denver\n",
       "3  9055649751952768824  America/Denver\n",
       "4  4428372089193592098  America/Denver"
      ]
     },
     "execution_count": 7,
     "metadata": {},
     "output_type": "execute_result"
    }
   ],
   "source": [
    "timezones_df.head()"
   ]
  },
  {
   "cell_type": "code",
   "execution_count": 20,
   "id": "790bdd54",
   "metadata": {},
   "outputs": [
    {
     "data": {
      "text/plain": [
       "store_id        0\n",
       "timezone_str    0\n",
       "dtype: int64"
      ]
     },
     "execution_count": 20,
     "metadata": {},
     "output_type": "execute_result"
    }
   ],
   "source": [
    "timezones_df.isna().sum()"
   ]
  },
  {
   "cell_type": "code",
   "execution_count": 12,
   "id": "a0f59f5a",
   "metadata": {},
   "outputs": [
    {
     "data": {
      "text/plain": [
       "(13559, 2)"
      ]
     },
     "execution_count": 12,
     "metadata": {},
     "output_type": "execute_result"
    }
   ],
   "source": [
    "timezones_df.shape"
   ]
  },
  {
   "cell_type": "code",
   "execution_count": 13,
   "id": "7f5d7ef1",
   "metadata": {},
   "outputs": [
    {
     "data": {
      "text/plain": [
       "store_id        13559\n",
       "timezone_str       11\n",
       "dtype: int64"
      ]
     },
     "execution_count": 13,
     "metadata": {},
     "output_type": "execute_result"
    }
   ],
   "source": [
    "timezones_df.nunique()"
   ]
  },
  {
   "cell_type": "code",
   "execution_count": 14,
   "id": "6fea86a8",
   "metadata": {},
   "outputs": [
    {
     "data": {
      "text/html": [
       "<div>\n",
       "<style scoped>\n",
       "    .dataframe tbody tr th:only-of-type {\n",
       "        vertical-align: middle;\n",
       "    }\n",
       "\n",
       "    .dataframe tbody tr th {\n",
       "        vertical-align: top;\n",
       "    }\n",
       "\n",
       "    .dataframe thead th {\n",
       "        text-align: right;\n",
       "    }\n",
       "</style>\n",
       "<table border=\"1\" class=\"dataframe\">\n",
       "  <thead>\n",
       "    <tr style=\"text-align: right;\">\n",
       "      <th></th>\n",
       "      <th>store_id</th>\n",
       "      <th>status</th>\n",
       "      <th>timestamp_utc</th>\n",
       "    </tr>\n",
       "  </thead>\n",
       "  <tbody>\n",
       "    <tr>\n",
       "      <th>0</th>\n",
       "      <td>8419537941919820732</td>\n",
       "      <td>active</td>\n",
       "      <td>2023-01-22 12:09:39.388884 UTC</td>\n",
       "    </tr>\n",
       "    <tr>\n",
       "      <th>1</th>\n",
       "      <td>54515546588432327</td>\n",
       "      <td>active</td>\n",
       "      <td>2023-01-24 09:06:42.605777 UTC</td>\n",
       "    </tr>\n",
       "    <tr>\n",
       "      <th>2</th>\n",
       "      <td>8377465688456570187</td>\n",
       "      <td>active</td>\n",
       "      <td>2023-01-24 09:07:26.441407 UTC</td>\n",
       "    </tr>\n",
       "    <tr>\n",
       "      <th>3</th>\n",
       "      <td>5955337179846162144</td>\n",
       "      <td>active</td>\n",
       "      <td>2023-01-24 09:08:07.634899 UTC</td>\n",
       "    </tr>\n",
       "    <tr>\n",
       "      <th>4</th>\n",
       "      <td>1169347689335808384</td>\n",
       "      <td>active</td>\n",
       "      <td>2023-01-24 09:08:18.436854 UTC</td>\n",
       "    </tr>\n",
       "  </tbody>\n",
       "</table>\n",
       "</div>"
      ],
      "text/plain": [
       "              store_id  status                   timestamp_utc\n",
       "0  8419537941919820732  active  2023-01-22 12:09:39.388884 UTC\n",
       "1    54515546588432327  active  2023-01-24 09:06:42.605777 UTC\n",
       "2  8377465688456570187  active  2023-01-24 09:07:26.441407 UTC\n",
       "3  5955337179846162144  active  2023-01-24 09:08:07.634899 UTC\n",
       "4  1169347689335808384  active  2023-01-24 09:08:18.436854 UTC"
      ]
     },
     "execution_count": 14,
     "metadata": {},
     "output_type": "execute_result"
    }
   ],
   "source": [
    "store_status_df.head()"
   ]
  },
  {
   "cell_type": "code",
   "execution_count": 15,
   "id": "e9e98808",
   "metadata": {},
   "outputs": [
    {
     "data": {
      "text/plain": [
       "store_id           14092\n",
       "status                 2\n",
       "timestamp_utc    1523567\n",
       "dtype: int64"
      ]
     },
     "execution_count": 15,
     "metadata": {},
     "output_type": "execute_result"
    }
   ],
   "source": [
    "store_status_df.nunique()"
   ]
  },
  {
   "cell_type": "code",
   "execution_count": 16,
   "id": "1c7128cb",
   "metadata": {},
   "outputs": [
    {
     "data": {
      "text/plain": [
       "store_id         0\n",
       "status           0\n",
       "timestamp_utc    0\n",
       "dtype: int64"
      ]
     },
     "execution_count": 16,
     "metadata": {},
     "output_type": "execute_result"
    }
   ],
   "source": [
    "store_status_df.isna().sum()"
   ]
  },
  {
   "cell_type": "code",
   "execution_count": 17,
   "id": "3b3c5991",
   "metadata": {},
   "outputs": [
    {
     "data": {
      "text/html": [
       "<div>\n",
       "<style scoped>\n",
       "    .dataframe tbody tr th:only-of-type {\n",
       "        vertical-align: middle;\n",
       "    }\n",
       "\n",
       "    .dataframe tbody tr th {\n",
       "        vertical-align: top;\n",
       "    }\n",
       "\n",
       "    .dataframe thead th {\n",
       "        text-align: right;\n",
       "    }\n",
       "</style>\n",
       "<table border=\"1\" class=\"dataframe\">\n",
       "  <thead>\n",
       "    <tr style=\"text-align: right;\">\n",
       "      <th></th>\n",
       "      <th>store_id</th>\n",
       "      <th>day</th>\n",
       "      <th>start_time_local</th>\n",
       "      <th>end_time_local</th>\n",
       "    </tr>\n",
       "  </thead>\n",
       "  <tbody>\n",
       "    <tr>\n",
       "      <th>0</th>\n",
       "      <td>1481966498820158979</td>\n",
       "      <td>4</td>\n",
       "      <td>00:00:00</td>\n",
       "      <td>00:10:00</td>\n",
       "    </tr>\n",
       "    <tr>\n",
       "      <th>1</th>\n",
       "      <td>1481966498820158979</td>\n",
       "      <td>2</td>\n",
       "      <td>00:00:00</td>\n",
       "      <td>00:10:00</td>\n",
       "    </tr>\n",
       "    <tr>\n",
       "      <th>2</th>\n",
       "      <td>1481966498820158979</td>\n",
       "      <td>0</td>\n",
       "      <td>00:00:00</td>\n",
       "      <td>00:10:00</td>\n",
       "    </tr>\n",
       "    <tr>\n",
       "      <th>3</th>\n",
       "      <td>1481966498820158979</td>\n",
       "      <td>1</td>\n",
       "      <td>00:00:00</td>\n",
       "      <td>00:10:00</td>\n",
       "    </tr>\n",
       "    <tr>\n",
       "      <th>4</th>\n",
       "      <td>1481966498820158979</td>\n",
       "      <td>5</td>\n",
       "      <td>00:00:00</td>\n",
       "      <td>00:10:00</td>\n",
       "    </tr>\n",
       "  </tbody>\n",
       "</table>\n",
       "</div>"
      ],
      "text/plain": [
       "              store_id  day start_time_local end_time_local\n",
       "0  1481966498820158979    4         00:00:00       00:10:00\n",
       "1  1481966498820158979    2         00:00:00       00:10:00\n",
       "2  1481966498820158979    0         00:00:00       00:10:00\n",
       "3  1481966498820158979    1         00:00:00       00:10:00\n",
       "4  1481966498820158979    5         00:00:00       00:10:00"
      ]
     },
     "execution_count": 17,
     "metadata": {},
     "output_type": "execute_result"
    }
   ],
   "source": [
    "business_hours_df.head()"
   ]
  },
  {
   "cell_type": "code",
   "execution_count": 18,
   "id": "86e543d1",
   "metadata": {},
   "outputs": [
    {
     "data": {
      "text/plain": [
       "store_id            11116\n",
       "day                     7\n",
       "start_time_local       70\n",
       "end_time_local        154\n",
       "dtype: int64"
      ]
     },
     "execution_count": 18,
     "metadata": {},
     "output_type": "execute_result"
    }
   ],
   "source": [
    "business_hours_df.nunique()"
   ]
  },
  {
   "cell_type": "code",
   "execution_count": 19,
   "id": "c6426c0e",
   "metadata": {},
   "outputs": [
    {
     "data": {
      "text/plain": [
       "store_id         0\n",
       "status           0\n",
       "timestamp_utc    0\n",
       "dtype: int64"
      ]
     },
     "execution_count": 19,
     "metadata": {},
     "output_type": "execute_result"
    }
   ],
   "source": [
    "store_status_df.isna().sum()"
   ]
  },
  {
   "cell_type": "code",
   "execution_count": null,
   "id": "76cac378",
   "metadata": {},
   "outputs": [],
   "source": []
  }
 ],
 "metadata": {
  "kernelspec": {
   "display_name": "Python 3 (ipykernel)",
   "language": "python",
   "name": "python3"
  },
  "language_info": {
   "codemirror_mode": {
    "name": "ipython",
    "version": 3
   },
   "file_extension": ".py",
   "mimetype": "text/x-python",
   "name": "python",
   "nbconvert_exporter": "python",
   "pygments_lexer": "ipython3",
   "version": "3.10.9"
  }
 },
 "nbformat": 4,
 "nbformat_minor": 5
}
